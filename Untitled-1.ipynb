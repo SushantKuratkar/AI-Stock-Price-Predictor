{
 "cells": [
  {
   "cell_type": "code",
   "execution_count": 14,
   "metadata": {},
   "outputs": [
    {
     "name": "stdout",
     "output_type": "stream",
     "text": [
      "Invalid input! Please enter an integer or a float value.\n"
     ]
    }
   ],
   "source": [
    "def multiply():\n",
    "    num1 = int(input(\"Enter the num1 value\"))\n",
    "    num2 = int(input(\"Enter the num2 value\"))\n",
    "    print(\"The result is \", num1*num2)\n",
    "    return None\n",
    "\n",
    "try:\n",
    "    multiply()\n",
    "\n",
    "except ValueError:\n",
    "    print(\"Invalid input! Please enter an integer or a float value.\")    \n",
    "\n"
   ]
  },
  {
   "cell_type": "code",
   "execution_count": 5,
   "metadata": {},
   "outputs": [
    {
     "name": "stdout",
     "output_type": "stream",
     "text": [
      "An error occurred during calculation\n"
     ]
    }
   ],
   "source": [
    "def math():\n",
    "    num = int(input(\"Enter the value :\"))\n",
    "    result = num/(num-5)\n",
    "    print(\"The result is:\", result)\n",
    "    return None\n",
    "\n",
    "try:\n",
    "    math()\n",
    "\n",
    "except  Exception as e: \n",
    "    print(\"An error occurred during calculation\")"
   ]
  },
  {
   "cell_type": "code",
   "execution_count": 11,
   "metadata": {},
   "outputs": [
    {
     "name": "stdout",
     "output_type": "stream",
     "text": [
      "Other error\n"
     ]
    }
   ],
   "source": [
    "def safe_divide():\n",
    "    numerator = int(input(\"Enter the num1 :\"))\n",
    "    denominator = int(input(\"Enter the num2:\"))\n",
    "\n",
    "    result = numerator/denominator\n",
    "    print(\"The result is:\", result)\n",
    "    return None\n",
    "\n",
    "try:\n",
    "    safe_divide()\n",
    "    print(\"Success\")\n",
    "\n",
    "except ZeroDivisionError:\n",
    "    print(\"There was an error\")\n",
    "\n",
    "except:\n",
    "    print(\"Other error\")\n",
    "        \n"
   ]
  },
  {
   "cell_type": "code",
   "execution_count": 16,
   "metadata": {},
   "outputs": [
    {
     "name": "stdout",
     "output_type": "stream",
     "text": [
      "The division of two numbers is 1.0\n",
      "Success\n"
     ]
    }
   ],
   "source": [
    "def safe_divide():\n",
    "    numerator = int(input(\"Enter the number :\"))\n",
    "    denominator = int(input(\"Enter the number :\"))\n",
    "    print(\"The division of two numbers is\" , numerator/denominator)\n",
    "    \n",
    "    return None\n",
    "try :\n",
    "    safe_divide()\n",
    "    print(\"Success\")\n",
    "\n",
    "except ZeroDivisionError :  \n",
    "    print(\"Error: Cannot divide by zero\")\n",
    "    \n",
    "except :\n",
    "    print(\"Something went wrong\")"
   ]
  },
  {
   "cell_type": "code",
   "execution_count": 2,
   "metadata": {},
   "outputs": [
    {
     "name": "stdout",
     "output_type": "stream",
     "text": [
      "Press 1 for addition \n",
      " Press 2 for substraction \n",
      " Press 3 for multiplication \n",
      " Press 4 for division\n",
      "Multiplication is: 12\n"
     ]
    }
   ],
   "source": [
    "a = int(input(\"Enter the value1:\"))\n",
    "b = int(input(\"Enter the value2\"))\n",
    "\n",
    "print(\"Press 1 for addition \\n Press 2 for substraction \\n Press 3 for multiplication \\n Press 4 for division\")\n",
    "\n",
    "choice = int(input(\"Press one value:\"))\n",
    "\n",
    "if choice==1:\n",
    "        print(\"Addition is:\",a+b)\n",
    "\n",
    "elif choice==2:\n",
    "        print(\"Substraction is:\",a-b)\n",
    "\n",
    "elif choice==3:\n",
    "        print(\"Multiplication is:\",a*b)\n",
    "\n",
    "elif choice==4:\n",
    "        print(\"Divsion is:\",a/b)\n",
    "  \n",
    "\n"
   ]
  },
  {
   "cell_type": "code",
   "execution_count": 1,
   "metadata": {},
   "outputs": [
    {
     "name": "stdout",
     "output_type": "stream",
     "text": [
      "A\n"
     ]
    }
   ],
   "source": [
    "a = ['A','B','C','D','E','F']\n",
    "print(a[0])"
   ]
  },
  {
   "cell_type": "code",
   "execution_count": null,
   "metadata": {},
   "outputs": [],
   "source": []
  }
 ],
 "metadata": {
  "kernelspec": {
   "display_name": "Python 3",
   "language": "python",
   "name": "python3"
  },
  "language_info": {
   "codemirror_mode": {
    "name": "ipython",
    "version": 3
   },
   "file_extension": ".py",
   "mimetype": "text/x-python",
   "name": "python",
   "nbconvert_exporter": "python",
   "pygments_lexer": "ipython3",
   "version": "3.10.4"
  },
  "orig_nbformat": 4
 },
 "nbformat": 4,
 "nbformat_minor": 2
}
